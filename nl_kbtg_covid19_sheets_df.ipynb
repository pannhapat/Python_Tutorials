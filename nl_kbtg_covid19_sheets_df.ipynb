{
  "nbformat": 4,
  "nbformat_minor": 0,
  "metadata": {
    "colab": {
      "name": "nl-kbtg-covid19-sheets-df.ipynb",
      "provenance": [],
      "include_colab_link": true
    },
    "kernelspec": {
      "name": "python3",
      "display_name": "Python 3"
    }
  },
  "cells": [
    {
      "cell_type": "markdown",
      "metadata": {
        "id": "view-in-github",
        "colab_type": "text"
      },
      "source": [
        "<a href=\"https://colab.research.google.com/github/pannhapat/Python_Tutorials/blob/master/nl_kbtg_covid19_sheets_df.ipynb\" target=\"_parent\"><img src=\"https://colab.research.google.com/assets/colab-badge.svg\" alt=\"Open In Colab\"/></a>"
      ]
    },
    {
      "cell_type": "markdown",
      "metadata": {
        "id": "0KUbBz_PQ4A0",
        "colab_type": "text"
      },
      "source": [
        "authen ก่อน จะได้เปิด sheets ได้"
      ]
    },
    {
      "cell_type": "code",
      "metadata": {
        "id": "hmpN7pzEN2hD",
        "colab_type": "code",
        "colab": {}
      },
      "source": [
        "from google.colab import auth\n",
        "auth.authenticate_user()\n",
        "import gspread\n",
        "from oauth2client.client import GoogleCredentials\n",
        "gc = gspread.authorize(GoogleCredentials.get_application_default())\n"
      ],
      "execution_count": 0,
      "outputs": []
    },
    {
      "cell_type": "markdown",
      "metadata": {
        "id": "YtVIjLg8QtcH",
        "colab_type": "text"
      },
      "source": [
        "นำเข้าข้อมูลจาก Google Sheets"
      ]
    },
    {
      "cell_type": "code",
      "metadata": {
        "id": "v5sSZaESORsS",
        "colab_type": "code",
        "colab": {}
      },
      "source": [
        "# Load from sheet\n",
        "wb = gc.open_by_url('https://docs.google.com/spreadsheets/d/1o0HqNGX5AsR9JawvL2CnW-fWQ9QUkHRn72reJeJPlNw/edit#gid=1354638512')\n",
        "sheet = wb.sheet1\n",
        "\n",
        "# Skip header\n",
        "data = sheet.get_all_values()[1:]"
      ],
      "execution_count": 0,
      "outputs": []
    },
    {
      "cell_type": "markdown",
      "metadata": {
        "id": "HPxV-DRDRQUr",
        "colab_type": "text"
      },
      "source": [
        "เอาเฉพาะ column **Confirmed**"
      ]
    },
    {
      "cell_type": "code",
      "metadata": {
        "id": "P9j4IK4nQbER",
        "colab_type": "code",
        "colab": {}
      },
      "source": [
        "import pandas as pd\n",
        "df = pd.DataFrame(data)\n",
        "confirmed = pd.to_numeric(df[5])\n",
        "\n",
        "# Date range\n",
        "start = 20\n",
        "Y = confirmed.tolist()[start:]\n",
        "X = [i+1 for i in range(len(Y))]"
      ],
      "execution_count": 0,
      "outputs": []
    },
    {
      "cell_type": "markdown",
      "metadata": {
        "id": "CoRUh7I_RlfW",
        "colab_type": "text"
      },
      "source": [
        "ลองใช้กราฟทำนายเลข **Confirmed** วันถัดไป"
      ]
    },
    {
      "cell_type": "code",
      "metadata": {
        "id": "AWdiBUrzd2ZT",
        "colab_type": "code",
        "outputId": "0eb5092b-c22e-4f7d-9859-1c3f9a9e1dd9",
        "colab": {
          "base_uri": "https://localhost:8080/",
          "height": 329
        }
      },
      "source": [
        "\"\"\"\n",
        "Created on Mon Mar 30 12:10:59 2020\n",
        "author: yuen\n",
        "ref : https://www.facebook.com/photo.php?fbid=10219226773277783&set=pcb.10219226774877823&type=3&theater\n",
        "\n",
        "publisher : NL x KBTG\n",
        "forked : katopz, ying @ NoobLearning\n",
        "ref : \n",
        "\"\"\"\n",
        "\n",
        "import numpy as np\n",
        "import matplotlib.pyplot as plt\n",
        "\n",
        "# Nonlinear Regression Analysis (Polynomial)\n",
        "degree = 12\n",
        "fit = len(Y)\n",
        "poly_fit = np.poly1d(np.polyfit(X, Y, degree))\n",
        "\n",
        "# Plot data\n",
        "xx = np.linspace(0, fit, 100)\n",
        "plt.plot(xx, poly_fit(xx), c='r', linestyle='-')\n",
        "plt.title('Thailand Prediction Curve : Non-Linear Polynomial fitting')\n",
        "plt.xlabel('days')\n",
        "plt.ylabel('Confirm cases')\n",
        "plt.axis([0, 100, 0, 3000])\n",
        "plt.grid(True)\n",
        "plt.scatter(X, Y)\n",
        "\n",
        "plt.show()\n",
        "\n",
        "# Predict data\n",
        "predictedConfirmed = poly_fit(fit)\n",
        "print('Tomorrow will be ', predictedConfirmed)\n",
        "print('Increase ', predictedConfirmed - confirmed[-1:].tolist()[0])\n"
      ],
      "execution_count": 7,
      "outputs": [
        {
          "output_type": "display_data",
          "data": {
            "image/png": "[encoded data removed]",
            "text/plain": [
              "<Figure size 432x288 with 1 Axes>"
            ]
          },
          "metadata": {
            "tags": [],
            "needs_background": "light"
          }
        },
        {
          "output_type": "stream",
          "text": [
            "Tomorrow will be  2860.597563204043\n",
            "Increase  6.5975632040431265\n"
          ],
          "name": "stdout"
        }
      ]
    }
  ]
}