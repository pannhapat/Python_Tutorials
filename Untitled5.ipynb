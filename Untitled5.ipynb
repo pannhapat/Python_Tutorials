{
  "nbformat": 4,
  "nbformat_minor": 0,
  "metadata": {
    "colab": {
      "name": "Untitled5.ipynb",
      "provenance": [],
      "private_outputs": true,
      "authorship_tag": "ABX9TyMYW2UzBK+yTQ+AAqYrs5Rm",
      "include_colab_link": true
    },
    "kernelspec": {
      "name": "python3",
      "display_name": "Python 3"
    }
  },
  "cells": [
    {
      "cell_type": "markdown",
      "metadata": {
        "id": "view-in-github",
        "colab_type": "text"
      },
      "source": [
        "<a href=\"https://colab.research.google.com/github/pannhapat/Python_Tutorials/blob/master/Untitled5.ipynb\" target=\"_parent\"><img src=\"https://colab.research.google.com/assets/colab-badge.svg\" alt=\"Open In Colab\"/></a>"
      ]
    },
    {
      "cell_type": "markdown",
      "metadata": {
        "id": "UiCKVToPg2YS",
        "colab_type": "text"
      },
      "source": [
        "Install\n",
        "https://www.bualabs.com/archives/2804/what-is-proximity-analysis-air-quality-pollution-monitoring-toxic-chemical-pm-2-5-geospatial-ep-7/"
      ]
    },
    {
      "cell_type": "code",
      "metadata": {
        "id": "FyTZ2En-gs1l",
        "colab_type": "code",
        "colab": {}
      },
      "source": [
        " ! pip install geopandas"
      ],
      "execution_count": 0,
      "outputs": []
    },
    {
      "cell_type": "code",
      "metadata": {
        "id": "cgyYmpengt2r",
        "colab_type": "code",
        "colab": {}
      },
      "source": [
        "! pip install git+https://github.com/python-visualization/folium\n",
        "! pip install kaggle --upgrade"
      ],
      "execution_count": 0,
      "outputs": []
    },
    {
      "cell_type": "markdown",
      "metadata": {
        "id": "xLXad9Rwg537",
        "colab_type": "text"
      },
      "source": [
        "Import Library"
      ]
    },
    {
      "cell_type": "code",
      "metadata": {
        "id": "20UudRJcg_B7",
        "colab_type": "code",
        "colab": {}
      },
      "source": [
        "import pandas as pd\n",
        "import geopandas as gpd\n",
        "\n",
        "import folium\n",
        "from folium import *\n",
        "from folium.plugins import *\n",
        "\n",
        "import os\n",
        "from pathlib import Path"
      ],
      "execution_count": 0,
      "outputs": []
    },
    {
      "cell_type": "code",
      "metadata": {
        "id": "5pkSPw_NhD1N",
        "colab_type": "code",
        "colab": {}
      },
      "source": [
        "from IPython.display import IFrame, HTML\n",
        "\n",
        "def embed_map(m, file_name):    \n",
        "    m.save(file_name)\n",
        "\n",
        "    # # VM\n",
        "    # return IFrame(src=file_name, width='100%', height='500px')\n",
        "\n",
        "    # Colab\n",
        "    return m"
      ],
      "execution_count": 0,
      "outputs": []
    },
    {
      "cell_type": "markdown",
      "metadata": {
        "id": "3tL_AjuOhGwg",
        "colab_type": "text"
      },
      "source": [
        "2. เตรียม Path สำหรับดาวน์โหลดข้อมูล"
      ]
    },
    {
      "cell_type": "code",
      "metadata": {
        "id": "7sLcqnIkhScX",
        "colab_type": "code",
        "colab": {}
      },
      "source": [
        "dataset = 'alexisbcook/geospatial-learn-course-data'\n",
        "\n",
        "# Google Colab\n",
        "config_path = Path('/content/drive')\n",
        "data_path = Path('/content/datasets/')/dataset\n",
        "from google.colab import drive\n",
        "drive.mount(str(config_path))\n",
        "os.environ['KAGGLE_CONFIG_DIR'] = f\"{config_path}/My Drive/.kaggle\"\n",
        "\n",
        "## VM\n",
        "# config_path = Path(os.getenv(\"HOME\"))\n",
        "# data_path = config_path/\"datasets\"/dataset\n",
        "# data_path.mkdir(parents=True, exist_ok=True)\n",
        "# os.environ['KAGGLE_CONFIG_DIR'] = f\"{config_path}/.kaggle\""
      ],
      "execution_count": 0,
      "outputs": []
    },
    {
      "cell_type": "code",
      "metadata": {
        "id": "qDsobcF9h_XQ",
        "colab_type": "code",
        "colab": {}
      },
      "source": [
        "!kaggle datasets download {dataset} -p \"{data_path}\" --unzip"
      ],
      "execution_count": 0,
      "outputs": []
    },
    {
      "cell_type": "markdown",
      "metadata": {
        "id": "7R3xheAghfnh",
        "colab_type": "text"
      },
      "source": [
        "4.1 การปล่อยสารพิษ\n",
        "โหลดข้อมูลการปล่อยสารพิษ ในเมืองฟิลาเดลเฟีย จากหน่วยงาน US Environmental Protection Agency (EPA) ขึ้นมา"
      ]
    },
    {
      "cell_type": "code",
      "metadata": {
        "id": "QIXIp5wwhgzs",
        "colab_type": "code",
        "colab": {}
      },
      "source": [
        "releases = gpd.read_file(data_path/\"toxic_release_pennsylvania/toxic_release_pennsylvania/toxic_release_pennsylvania.shp\") \n",
        "releases.head()"
      ],
      "execution_count": 0,
      "outputs": []
    },
    {
      "cell_type": "markdown",
      "metadata": {
        "id": "rdXFVXxPhkT4",
        "colab_type": "text"
      },
      "source": [
        ""
      ]
    },
    {
      "cell_type": "code",
      "metadata": {
        "id": "T4wpQRVYiY5W",
        "colab_type": "code",
        "colab": {}
      },
      "source": [
        "releases.shape"
      ],
      "execution_count": 0,
      "outputs": []
    },
    {
      "cell_type": "code",
      "metadata": {
        "id": "E2PjuOsPiZNU",
        "colab_type": "code",
        "colab": {}
      },
      "source": [
        "m_1 = folium.Map(location=[39.9526,-75.1652], zoom_start=11)\n",
        "\n",
        "# Add a heatmap to the base map\n",
        "HeatMap(data=releases[['LATITUDE', 'LONGITUDE']], radius=20).add_to(m_1)\n",
        "\n",
        "# Display the map\n",
        "embed_map(m_1, '25g-m_1.html')"
      ],
      "execution_count": 0,
      "outputs": []
    },
    {
      "cell_type": "code",
      "metadata": {
        "id": "6ki9Q1KEie-e",
        "colab_type": "code",
        "colab": {}
      },
      "source": [
        "stations = gpd.read_file(data_path/\"PhillyHealth_Air_Monitoring_Stations/PhillyHealth_Air_Monitoring_Stations/PhillyHealth_Air_Monitoring_Stations.shp\")\n",
        "stations.head()"
      ],
      "execution_count": 0,
      "outputs": []
    }
  ]
}